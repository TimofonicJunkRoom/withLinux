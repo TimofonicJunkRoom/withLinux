{
 "cells": [
  {
   "cell_type": "markdown",
   "metadata": {},
   "source": [
    "# SolutionEuler\n",
    "\n",
    "> https://projecteuler.net/problem=1"
   ]
  },
  {
   "cell_type": "markdown",
   "metadata": {},
   "source": [
    "# 1\n",
    "summary of some numbers in [1,1000]\n",
    "\n",
    "$ \\sum_i ia + \\sum_j jb  \\text{ ,where } i \\neq nb , j \\neq ma $"
   ]
  },
  {
   "cell_type": "code",
   "execution_count": 2,
   "metadata": {
    "collapsed": false
   },
   "outputs": [
    {
     "name": "stdout",
     "output_type": "stream",
     "text": [
      "  0.115074 seconds (20.23 k allocations: 1.145 MiB)\n"
     ]
    },
    {
     "data": {
      "text/plain": [
       "233168"
      ]
     },
     "execution_count": 2,
     "metadata": {},
     "output_type": "execute_result"
    }
   ],
   "source": [
    "@time sum([x for x in 1:999 if (x%3==0 || x%5==0)])"
   ]
  },
  {
   "cell_type": "markdown",
   "metadata": {},
   "source": [
    "equivalent to $\\sum_i ia + \\sum_j jb - \\sum_k kab$ where kab is the repeated numbers among ia and jb."
   ]
  },
  {
   "cell_type": "code",
   "execution_count": 3,
   "metadata": {
    "collapsed": false
   },
   "outputs": [
    {
     "name": "stdout",
     "output_type": "stream",
     "text": [
      "  0.015780 seconds (1.85 k allocations: 107.657 KiB)\n"
     ]
    },
    {
     "data": {
      "text/plain": [
       "233168"
      ]
     },
     "execution_count": 3,
     "metadata": {},
     "output_type": "execute_result"
    }
   ],
   "source": [
    "@time sum([ 3:3:999; 5:5:999; -(15:15:999) ])"
   ]
  },
  {
   "cell_type": "markdown",
   "metadata": {},
   "source": [
    "# 2\n",
    "Get the summary of some numbers in fibonacci sequence."
   ]
  },
  {
   "cell_type": "code",
   "execution_count": 10,
   "metadata": {
    "collapsed": false
   },
   "outputs": [
    {
     "data": {
      "text/plain": [
       "4613732"
      ]
     },
     "execution_count": 10,
     "metadata": {},
     "output_type": "execute_result"
    }
   ],
   "source": [
    "v = [1,1]\n",
    "s = 0\n",
    "while (v[end] < 4000000)\n",
    "    if v[end]%2==0 s+=v[end] end\n",
    "    push!(v, v[end]+v[end-1])\n",
    "end\n",
    "s"
   ]
  },
  {
   "cell_type": "markdown",
   "metadata": {
    "collapsed": true
   },
   "source": [
    "# 18"
   ]
  },
  {
   "cell_type": "markdown",
   "metadata": {},
   "source": [
    "```\n",
    "In a triangle like this:\n",
    "\n",
    "      a\n",
    "     b c\n",
    "    d e f\n",
    "    \n",
    "the best way to find the anwser is not to get the maximum from the summaries of\n",
    "all possible branches from top to bottom.\n",
    "\n",
    "There is such a recursive pattern\n",
    "\n",
    "a + max( b+max(b,c), c+max(e,f)\n",
    "```"
   ]
  },
  {
   "cell_type": "code",
   "execution_count": 4,
   "metadata": {
    "collapsed": true
   },
   "outputs": [],
   "source": [
    "tri_txt = \"75\n",
    "95 64\n",
    "17 47 82\n",
    "18 35 87 10\n",
    "20 04 82 47 65\n",
    "19 01 23 75 03 34\n",
    "88 02 77 73 07 63 67\n",
    "99 65 04 28 06 16 70 92\n",
    "41 41 26 56 83 40 80 70 33\n",
    "41 48 72 33 47 32 37 16 94 29\n",
    "53 71 44 65 25 43 91 52 97 51 14\n",
    "70 11 33 28 77 73 17 78 39 68 17 57\n",
    "91 71 52 38 17 14 91 43 58 50 27 29 48\n",
    "63 66 04 68 89 53 67 30 73 16 69 87 40 31\n",
    "04 62 98 27 23 09 70 98 73 93 38 53 60 04 23\n",
    "\"\n",
    "f = open(\"/tmp/tri.txt\", \"w\")\n",
    "write(f, tri_txt)\n",
    "close(f)"
   ]
  },
  {
   "cell_type": "code",
   "execution_count": 6,
   "metadata": {
    "collapsed": false
   },
   "outputs": [
    {
     "name": "stdout",
     "output_type": "stream",
     "text": [
      "1074\n"
     ]
    }
   ],
   "source": [
    "import Base.zero\n",
    "zero(::SubString{String}) = 0 # Julia 0.5\n",
    "\n",
    "ZeroString(::SubString{String}) = 0\n",
    "ZeroString(x::Int64) = x\n",
    "\n",
    "A = readdlm(\"/tmp/tri.txt\")\n",
    "A = ZeroString.(A)\n",
    "\n",
    "function myreduction(m)\n",
    "\tif size(m)[1] == 1\n",
    "\t\treturn m[1,1]\n",
    "\telse\n",
    "\t\tmprime = m[1:(end-1), :]\n",
    "\t\tfor k in 1:(size(m, 1)-1)\n",
    "\t\t\tmprime[size(mprime, 1), k] += max(\n",
    "\t\t\t\t\t\t\t\t\t m[size(m, 1),k], m[size(m, 1),k+1])\n",
    "\t\tend\n",
    "\t\treturn myreduction(mprime)\n",
    "\tend\n",
    "end\n",
    "\n",
    "println(myreduction(A))"
   ]
  }
 ],
 "metadata": {
  "kernelspec": {
   "display_name": "Julia 0.6.0",
   "language": "julia",
   "name": "julia-0.6"
  },
  "language_info": {
   "file_extension": ".jl",
   "mimetype": "application/julia",
   "name": "julia",
   "version": "0.6.0"
  }
 },
 "nbformat": 4,
 "nbformat_minor": 2
}
