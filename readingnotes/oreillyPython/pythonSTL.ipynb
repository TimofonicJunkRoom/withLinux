{
 "cells": [
  {
   "cell_type": "code",
   "execution_count": null,
   "metadata": {
    "collapsed": true
   },
   "outputs": [],
   "source": [
    "# 2.4 bisect -- maintain lists in sorted order\n",
    "# 2.7 weakref -- impermanent references to objects\n",
    "# 2.8 copy -- duplicate objects\n",
    "# 2.9 pprint -- pretty-print data structures\n",
    "\n",
    "# 6.3 linecache -- read text files efficiently\n",
    "# 6.4 fnmatch -- unix-style glob pattern matching\n",
    "\n",
    "# 6.5 pickle -- object serilization\n",
    "# 6.6 shelve -- persistent storage of objects\n",
    "\n",
    "# 10.3 threading\n",
    "# 10.4 multiprocessing\n",
    "\n",
    "# 16.4 traceback\n",
    "# 16.7 trace\n",
    "# 16.8 profile and pstats\n",
    "# 16.9 timeit\n",
    "# 16.10 compileall -- byte-compile source files\n",
    "# 16.11 pyclbr -- class browser\n",
    "\n",
    "# 17.6 GC -- garbage collector\n",
    "\n",
    "# 18.2 abs -- abstract base classes\n",
    "# 18.3 dis -- python bytecode disassembler\n",
    "# 18.5 exceptions"
   ]
  }
 ],
 "metadata": {
  "kernelspec": {
   "display_name": "Python 3",
   "language": "python",
   "name": "python3"
  },
  "language_info": {
   "codemirror_mode": {
    "name": "ipython",
    "version": 3
   },
   "file_extension": ".py",
   "mimetype": "text/x-python",
   "name": "python",
   "nbconvert_exporter": "python",
   "pygments_lexer": "ipython3",
   "version": "3.5.4"
  }
 },
 "nbformat": 4,
 "nbformat_minor": 2
}
