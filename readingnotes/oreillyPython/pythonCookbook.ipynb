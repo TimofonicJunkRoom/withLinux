{
 "cells": [
  {
   "cell_type": "markdown",
   "metadata": {},
   "source": [
    "# Python Cookbook 3rd Ed."
   ]
  },
  {
   "cell_type": "markdown",
   "metadata": {},
   "source": [
    "# 1. data structures and algorithms\n",
    "1.1 unpacking a sequence into separate variables\n",
    "\n",
    "1.2 unpacking elements from iterables of arbitrary length"
   ]
  },
  {
   "cell_type": "code",
   "execution_count": 38,
   "metadata": {
    "collapsed": false
   },
   "outputs": [
    {
     "name": "stdout",
     "output_type": "stream",
     "text": [
      "deque([7, 8, 9], maxlen=3)\n"
     ]
    }
   ],
   "source": [
    "# 1.3 keeping the last N items\n",
    "\n",
    "from collections import deque\n",
    "a = deque(maxlen=3)\n",
    "for i in range(10): a.append(i)\n",
    "print(a)"
   ]
  },
  {
   "cell_type": "code",
   "execution_count": 39,
   "metadata": {
    "collapsed": false
   },
   "outputs": [
    {
     "name": "stdout",
     "output_type": "stream",
     "text": [
      "[0.8549981919597999, 0.8375580999483792, 0.8099903964347472]\n",
      "[{'price': 0, 'name': 'fruit0'}, {'price': 1, 'name': 'fruit1'}, {'price': 2, 'name': 'fruit2'}]\n"
     ]
    }
   ],
   "source": [
    "# 1.4 finding the largest or smallest N items\n",
    "\n",
    "import random\n",
    "import heapq\n",
    "a = [ random.random() for _ in range(10) ]\n",
    "print(heapq.nlargest(3, a))\n",
    "b = [{'name': 'fruit{}'.format(i), 'price': i} for i in range(10)]\n",
    "print(heapq.nsmallest(3, b, key=lambda s: s['price']))"
   ]
  },
  {
   "cell_type": "markdown",
   "metadata": {},
   "source": [
    "1.5 implementing a priority queue"
   ]
  },
  {
   "cell_type": "code",
   "execution_count": 40,
   "metadata": {
    "collapsed": false
   },
   "outputs": [
    {
     "name": "stdout",
     "output_type": "stream",
     "text": [
      "defaultdict(<class 'list'>, {'b': [2], 'a': [1, 3]})\n"
     ]
    }
   ],
   "source": [
    "# 1.6 mapping keys to multiple values in a dict\n",
    "\n",
    "from collections import defaultdict\n",
    "d = defaultdict(list)\n",
    "d['a'].append(1)\n",
    "d['b'].append(2)\n",
    "d['a'].append(3)\n",
    "print(d)"
   ]
  },
  {
   "cell_type": "code",
   "execution_count": 41,
   "metadata": {
    "collapsed": false
   },
   "outputs": [
    {
     "name": "stdout",
     "output_type": "stream",
     "text": [
      "OrderedDict([('foo', 1), ('bar', 2), ('spam', 3)])\n"
     ]
    }
   ],
   "source": [
    "# 1.7 keeping dictionaries in order\n",
    "\n",
    "from collections import OrderedDict\n",
    "d = OrderedDict()\n",
    "d['foo'] = 1\n",
    "d['bar'] = 2\n",
    "d['spam'] = 3\n",
    "print(d)"
   ]
  },
  {
   "cell_type": "code",
   "execution_count": null,
   "metadata": {
    "collapsed": true
   },
   "outputs": [],
   "source": [
    "# 1.8 calculating with dictinoaries\n",
    "\n",
    "prices = {\n",
    "'ACME': 45.23,\n",
    "'AAPL': 612.78,\n",
    "'IBM': 205.55,\n",
    "'HPQ': 37.20,\n",
    "'FB': 10.75\n",
    "}\n",
    "print(min(zip(prices.values(), prices.keys())))\n",
    "prices_sorted = sorted(zip(prices.values(), prices.keys()))\n",
    "print(prices_sorted)"
   ]
  },
  {
   "cell_type": "markdown",
   "metadata": {},
   "source": [
    "1.9 finding the commonalities in two dictionaries\n",
    "\n",
    "1.10 removing duplicates from a sequence while maintaining order\n",
    "\n",
    "1.11 naming a slice"
   ]
  },
  {
   "cell_type": "code",
   "execution_count": null,
   "metadata": {
    "collapsed": true
   },
   "outputs": [],
   "source": [
    "# 1.12 determining the most frequently occuring items in a sequence\n",
    "\n",
    "import random\n",
    "from collections import Counter\n",
    "ncount = Counter((random.choice(range(10)) for _ in range(1000)))\n",
    "print(ncount.most_common(3))\n",
    "print(ncount)"
   ]
  },
  {
   "cell_type": "markdown",
   "metadata": {},
   "source": [
    "1.13 sorting a list of dictionaries by a common key\n",
    "\n",
    "1.14 sorting objects without native comparison support\n",
    "\n",
    "1.15 grouping records together based on a field\n",
    "\n",
    "1.16 filtering sequence elements\n",
    "\n",
    "1.17 extracting a subset of a dictionary\n",
    "\n",
    "1.18 mapping names to sequence elements\n",
    "\n",
    "1.19 transforming and recuding data at the same time\n",
    "\n",
    "1.20 combining multiple mapings into a single mapping"
   ]
  },
  {
   "cell_type": "markdown",
   "metadata": {},
   "source": [
    "# 2. strings and text"
   ]
  },
  {
   "cell_type": "code",
   "execution_count": 26,
   "metadata": {
    "collapsed": false
   },
   "outputs": [
    {
     "data": {
      "text/plain": [
       "['asdf', 'fjdk', 'afed', 'fjek', 'asdf', 'foo']"
      ]
     },
     "execution_count": 26,
     "metadata": {},
     "output_type": "execute_result"
    }
   ],
   "source": [
    "# 2.1 splitting strings on any of multiple delimiters\n",
    "import re\n",
    "line = 'asdf fjdk; afed, fjek,asdf,     foo'\n",
    "re.split(r'[;,\\s]\\s*', line)"
   ]
  },
  {
   "cell_type": "code",
   "execution_count": 31,
   "metadata": {
    "collapsed": false,
    "scrolled": true
   },
   "outputs": [
    {
     "name": "stdout",
     "output_type": "stream",
     "text": [
      "False\n",
      "True\n",
      "False\n"
     ]
    }
   ],
   "source": [
    "# 2.2 matching text at the start of end of a string\n",
    "fname = 'spam.txt'\n",
    "print(fname.startswith('file:'))\n",
    "print(fname.endswith('.txt'))\n",
    "print(fname.endswith(('.c', '.h')))"
   ]
  },
  {
   "cell_type": "code",
   "execution_count": 32,
   "metadata": {
    "collapsed": false,
    "scrolled": true
   },
   "outputs": [
    {
     "name": "stdout",
     "output_type": "stream",
     "text": [
      "True\n"
     ]
    }
   ],
   "source": [
    "# 2.3 matching strings using shell wildcard patterns\n",
    "from fnmatch import fnmatch, fnmatchcase\n",
    "print(fnmatch('foo.txt', '*.txt'))"
   ]
  },
  {
   "cell_type": "code",
   "execution_count": 34,
   "metadata": {
    "collapsed": false,
    "scrolled": true
   },
   "outputs": [
    {
     "name": "stdout",
     "output_type": "stream",
     "text": [
      "-1 15\n"
     ]
    }
   ],
   "source": [
    "# 2.4 matching and searching for text patterns\n",
    "text = 'aslawe asdklf lno asd faskldjf asdf w'\n",
    "print(text.find('xxxx'), text.find('no'))\n",
    "import re\n",
    "# skip."
   ]
  },
  {
   "cell_type": "code",
   "execution_count": 37,
   "metadata": {
    "collapsed": false
   },
   "outputs": [
    {
     "name": "stdout",
     "output_type": "stream",
     "text": [
      "today is 2012-11-27, PyCon starts 2013-3-13\n"
     ]
    }
   ],
   "source": [
    "# 2.5 searching and replacing text\n",
    "text = 'askfd lsad asdf asdf aswf'\n",
    "text.replace('asdf', '')\n",
    "text = 'today is 11/27/2012, PyCon starts 3/13/2013'\n",
    "import re\n",
    "text = re.sub(r'(\\d+)/(\\d+)/(\\d+)', r'\\3-\\1-\\2', text)\n",
    "print(text)"
   ]
  },
  {
   "cell_type": "markdown",
   "metadata": {},
   "source": [
    "2.6 searching and replacing case-insensitive text\n",
    "\n",
    "2.7 specifying a regular expression for the shortest match\n",
    "\n",
    "2.8 writing a regular expression for multiline patterns\n",
    "\n",
    "2.9 normalizing unicode text to a standard representation\n",
    "\n",
    "2.10 working with unicode characters in regular expressions"
   ]
  },
  {
   "cell_type": "code",
   "execution_count": 42,
   "metadata": {
    "collapsed": false
   },
   "outputs": [
    {
     "data": {
      "text/plain": [
       "'---  hello  world'"
      ]
     },
     "execution_count": 42,
     "metadata": {},
     "output_type": "execute_result"
    }
   ],
   "source": [
    "# 2.11 stripping unwanted characters from strings\n",
    "s = ' ---  hello  world   \\n'\n",
    "s.strip() # s.lstrip(), s.rstrip(), s.strip(' -\\n')"
   ]
  },
  {
   "cell_type": "markdown",
   "metadata": {},
   "source": [
    "2.12 sanitizing and cleaning up text"
   ]
  },
  {
   "cell_type": "code",
   "execution_count": 47,
   "metadata": {
    "collapsed": false
   },
   "outputs": [
    {
     "name": "stdout",
     "output_type": "stream",
     "text": [
      "'foobar              '\n",
      "************foobar************\n",
      "=======foobar=======\n"
     ]
    }
   ],
   "source": [
    "# 2.13 aligning text strings\n",
    "text = 'foobar'\n",
    "print(repr(text.ljust(20))) # text.rjust, text.center\n",
    "print(text.center(30, '*'))\n",
    "print(format(text, '=^20s'))"
   ]
  },
  {
   "cell_type": "code",
   "execution_count": 50,
   "metadata": {
    "collapsed": false
   },
   "outputs": [
    {
     "name": "stdout",
     "output_type": "stream",
     "text": [
      "asdf asdf asdf\n",
      "asdf,asdf,asdf\n",
      "hello world\n"
     ]
    }
   ],
   "source": [
    "# 2.14 combining and concatenating strings\n",
    "parts = ['asdf', 'asdf', 'asdf']\n",
    "print(' '.join(parts))\n",
    "print(','.join(parts))\n",
    "print('hello' + ' ' + 'world')"
   ]
  },
  {
   "cell_type": "markdown",
   "metadata": {},
   "source": [
    "2.15 interpolating variables in strings"
   ]
  },
  {
   "cell_type": "code",
   "execution_count": 51,
   "metadata": {
    "collapsed": true
   },
   "outputs": [],
   "source": [
    "# 2.16 reformating text to a fixed number of columns\n",
    "import textwrap"
   ]
  },
  {
   "cell_type": "markdown",
   "metadata": {},
   "source": [
    "2.17 handling html and xml entities in text\n",
    "\n",
    "2.18 tokenizing text\n",
    "\n",
    "2.19 writing a simple recursive descent parser\n",
    "\n",
    "2.20 performing text operations on byte strings"
   ]
  },
  {
   "cell_type": "markdown",
   "metadata": {},
   "source": [
    "# 3. numbers, dates and times\n",
    "todo"
   ]
  },
  {
   "cell_type": "markdown",
   "metadata": {},
   "source": [
    "# 4. iterators and generators"
   ]
  },
  {
   "cell_type": "markdown",
   "metadata": {},
   "source": [
    "# 5. files and I/O"
   ]
  },
  {
   "cell_type": "markdown",
   "metadata": {},
   "source": [
    "# 6. data encoding and processing"
   ]
  },
  {
   "cell_type": "markdown",
   "metadata": {},
   "source": [
    "# 7. functions"
   ]
  },
  {
   "cell_type": "markdown",
   "metadata": {},
   "source": [
    "# 8. classes and objects"
   ]
  },
  {
   "cell_type": "markdown",
   "metadata": {},
   "source": [
    "# 9. metaprogramming"
   ]
  },
  {
   "cell_type": "markdown",
   "metadata": {},
   "source": [
    "# 10. modules and packages"
   ]
  },
  {
   "cell_type": "markdown",
   "metadata": {},
   "source": [
    "# 11. network and web programming"
   ]
  },
  {
   "cell_type": "markdown",
   "metadata": {},
   "source": [
    "# 12. concurrency"
   ]
  },
  {
   "cell_type": "markdown",
   "metadata": {},
   "source": [
    "# 13. utility scripting and system administration"
   ]
  },
  {
   "cell_type": "markdown",
   "metadata": {},
   "source": [
    "# 14. testing, debugging and exceptions"
   ]
  },
  {
   "cell_type": "markdown",
   "metadata": {},
   "source": [
    "# 15. C extensions"
   ]
  },
  {
   "cell_type": "code",
   "execution_count": null,
   "metadata": {
    "collapsed": true
   },
   "outputs": [],
   "source": []
  }
 ],
 "metadata": {
  "kernelspec": {
   "display_name": "Python 3",
   "language": "python",
   "name": "python3"
  },
  "language_info": {
   "codemirror_mode": {
    "name": "ipython",
    "version": 3
   },
   "file_extension": ".py",
   "mimetype": "text/x-python",
   "name": "python",
   "nbconvert_exporter": "python",
   "pygments_lexer": "ipython3",
   "version": "3.5.4rc1"
  }
 },
 "nbformat": 4,
 "nbformat_minor": 2
}
