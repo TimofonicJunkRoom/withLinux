{
 "cells": [
  {
   "cell_type": "code",
   "execution_count": 29,
   "metadata": {
    "collapsed": false,
    "scrolled": false
   },
   "outputs": [
    {
     "data": {
      "text/html": [
       "<script>requirejs.config({paths: { 'plotly': ['https://cdn.plot.ly/plotly-latest.min']},});if(!window.Plotly) {{require(['plotly'],function(plotly) {window.Plotly=plotly;});}}</script>"
      ],
      "text/vnd.plotly.v1+html": [
       "<script>requirejs.config({paths: { 'plotly': ['https://cdn.plot.ly/plotly-latest.min']},});if(!window.Plotly) {{require(['plotly'],function(plotly) {window.Plotly=plotly;});}}</script>"
      ]
     },
     "metadata": {},
     "output_type": "display_data"
    },
    {
     "data": {
      "application/vnd.plotly.v1+json": {
       "data": [
        {
         "mode": "lines+markers",
         "type": "scatter",
         "x": [
          0,
          1,
          2,
          3,
          4,
          5,
          6,
          7,
          8,
          9
         ],
         "y": [
          -1.459157766022252,
          -0.8228002029882727,
          1.466070926706944,
          1.4020123178432693,
          -0.3370864732229561,
          -0.195019736486323,
          -1.016372557947923,
          -1.971129466350942,
          0.3921489153120776,
          0.06786161285654929
         ]
        }
       ],
       "layout": {
        "title": "Test Plot"
       }
      },
      "text/html": [
       "<div id=\"5cc392bf-8d7f-456b-9216-11ee31513080\" style=\"height: 525px; width: 100%;\" class=\"plotly-graph-div\"></div><script type=\"text/javascript\">require([\"plotly\"], function(Plotly) { window.PLOTLYENV=window.PLOTLYENV || {};window.PLOTLYENV.BASE_URL=\"https://plot.ly\";Plotly.newPlot(\"5cc392bf-8d7f-456b-9216-11ee31513080\", [{\"y\": [-1.459157766022252, -0.8228002029882727, 1.466070926706944, 1.4020123178432693, -0.3370864732229561, -0.195019736486323, -1.016372557947923, -1.971129466350942, 0.3921489153120776, 0.06786161285654929], \"type\": \"scatter\", \"x\": [0, 1, 2, 3, 4, 5, 6, 7, 8, 9], \"mode\": \"lines+markers\"}], {\"title\": \"Test Plot\"}, {\"showLink\": true, \"linkText\": \"Export to plot.ly\"})});</script>"
      ],
      "text/vnd.plotly.v1+html": [
       "<div id=\"5cc392bf-8d7f-456b-9216-11ee31513080\" style=\"height: 525px; width: 100%;\" class=\"plotly-graph-div\"></div><script type=\"text/javascript\">require([\"plotly\"], function(Plotly) { window.PLOTLYENV=window.PLOTLYENV || {};window.PLOTLYENV.BASE_URL=\"https://plot.ly\";Plotly.newPlot(\"5cc392bf-8d7f-456b-9216-11ee31513080\", [{\"y\": [-1.459157766022252, -0.8228002029882727, 1.466070926706944, 1.4020123178432693, -0.3370864732229561, -0.195019736486323, -1.016372557947923, -1.971129466350942, 0.3921489153120776, 0.06786161285654929], \"type\": \"scatter\", \"x\": [0, 1, 2, 3, 4, 5, 6, 7, 8, 9], \"mode\": \"lines+markers\"}], {\"title\": \"Test Plot\"}, {\"showLink\": true, \"linkText\": \"Export to plot.ly\"})});</script>"
      ]
     },
     "metadata": {},
     "output_type": "display_data"
    },
    {
     "data": {
      "text/html": [
       "<script>function downloadimage(format, height, width, filename) {var p = document.getElementById('5cc392bf-8d7f-456b-9216-11ee31513080');Plotly.downloadImage(p, {format: format, height: height, width: width, filename: filename});};if(document.readyState == 'complete') {{downloadimage('svg', 600, 800, 'plot_image');}}</script>"
      ],
      "text/plain": [
       "<IPython.core.display.HTML object>"
      ]
     },
     "metadata": {},
     "output_type": "display_data"
    }
   ],
   "source": [
    "'''\n",
    "Also try plot.ly/create !\n",
    "'''\n",
    "\n",
    "import plotly\n",
    "import plotly.graph_objs as go\n",
    "plotly.offline.init_notebook_mode(connected=True)\n",
    "\n",
    "import numpy as np\n",
    "\n",
    "trace = go.Scatter(\n",
    "    x = np.arange(10),\n",
    "    y = np.random.randn(10),\n",
    "    mode = 'lines+markers',\n",
    ")\n",
    "plotly.offline.iplot({\n",
    "        'data': [trace],\n",
    "        'layout': {'title': 'Test Plot'},\n",
    "    }, image='svg')"
   ]
  },
  {
   "cell_type": "code",
   "execution_count": null,
   "metadata": {
    "collapsed": true
   },
   "outputs": [],
   "source": []
  }
 ],
 "metadata": {
  "kernelspec": {
   "display_name": "Python 3",
   "language": "python",
   "name": "python3"
  },
  "language_info": {
   "codemirror_mode": {
    "name": "ipython",
    "version": 3
   },
   "file_extension": ".py",
   "mimetype": "text/x-python",
   "name": "python",
   "nbconvert_exporter": "python",
   "pygments_lexer": "ipython3",
   "version": "3.5.4rc1"
  }
 },
 "nbformat": 4,
 "nbformat_minor": 2
}
