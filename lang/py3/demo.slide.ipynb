{
 "cells": [
  {
   "cell_type": "markdown",
   "metadata": {
    "slideshow": {
     "slide_type": "slide"
    }
   },
   "source": [
    "# h1\n",
    "\n",
    "#### h4\n",
    "\n",
    "text\n",
    "\n",
    "```python\n",
    "import sys\n",
    "```\n",
    "\n",
    "Advanced configuration https://github.com/hakimel/reveal.js"
   ]
  },
  {
   "cell_type": "code",
   "execution_count": 2,
   "metadata": {
    "collapsed": false,
    "scrolled": true,
    "slideshow": {
     "slide_type": "subslide"
    }
   },
   "outputs": [
    {
     "name": "stdout",
     "output_type": "stream",
     "text": [
      "hello\n"
     ]
    }
   ],
   "source": [
    "print('hello')"
   ]
  },
  {
   "cell_type": "markdown",
   "metadata": {
    "slideshow": {
     "slide_type": "subslide"
    }
   },
   "source": [
    "text example"
   ]
  },
  {
   "cell_type": "markdown",
   "metadata": {
    "slideshow": {
     "slide_type": "slide"
    }
   },
   "source": [
    "## Creating slides with Jupyter notebook"
   ]
  },
  {
   "cell_type": "markdown",
   "metadata": {
    "slideshow": {
     "slide_type": "fragment"
    }
   },
   "source": [
    "* create a new ipynb file\n",
    "\n",
    "* view -> cell toolbar -> slideshow\n",
    "\n",
    "* done editing\n",
    "\n",
    "* math test $E = mc^2$"
   ]
  },
  {
   "cell_type": "markdown",
   "metadata": {
    "slideshow": {
     "slide_type": "slide"
    }
   },
   "source": [
    "# Prepare tools"
   ]
  },
  {
   "cell_type": "markdown",
   "metadata": {
    "slideshow": {
     "slide_type": "-"
    }
   },
   "source": [
    "* `apt install jupyter-nbconvert npm`\n",
    "\n",
    "* `npm install reveal.js`"
   ]
  },
  {
   "cell_type": "markdown",
   "metadata": {
    "slideshow": {
     "slide_type": "slide"
    }
   },
   "source": [
    "# Convert your notebook into slides"
   ]
  },
  {
   "cell_type": "markdown",
   "metadata": {
    "slideshow": {
     "slide_type": "-"
    }
   },
   "source": [
    "* `ln -s ~/node_modules/reveal.js .`\n",
    "\n",
    "* `jupyter-nbconvert Untitled.ipynb --to slides --post serve`\n",
    "\n",
    "* change theme as you like, e.g. `serif`, `simple`, `solarized`, `white`"
   ]
  },
  {
   "cell_type": "raw",
   "metadata": {},
   "source": [
    "<link rel=\"stylesheet\" href=\"reveal.js/css/theme/serif.css\" id=\"theme\">\n",
    "<style type=\"text/css\">\n",
    "\n",
    ".reveal h1 {     \n",
    "  text-align: center;\n",
    "  font-family: serif;  \n",
    "  font-size: 3em;    \n",
    "  font-weight: normal;    \n",
    "  color: #cc0066; }    \n",
    "div.prompt {\n",
    "    width: 15ex;\n",
    "    padding: 0em;\n",
    "    margin: 0px;\n",
    "    font-family: monospace, sans-serif;\n",
    "    font-size: 0%;\n",
    "    text-align: right;\n",
    "    visibility: hidden;\n",
    "}\n",
    "</style>\n",
    "<script>\n",
    "\n",
    "</script>"
   ]
  }
 ],
 "metadata": {
  "celltoolbar": "Slideshow",
  "kernelspec": {
   "display_name": "Python 3",
   "language": "python",
   "name": "python3"
  },
  "language_info": {
   "codemirror_mode": {
    "name": "ipython",
    "version": 3
   },
   "file_extension": ".py",
   "mimetype": "text/x-python",
   "name": "python",
   "nbconvert_exporter": "python",
   "pygments_lexer": "ipython3",
   "version": "3.5.4rc1"
  }
 },
 "nbformat": 4,
 "nbformat_minor": 2
}
