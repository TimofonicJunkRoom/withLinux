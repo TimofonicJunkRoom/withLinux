{
 "cells": [
  {
   "cell_type": "code",
   "execution_count": 23,
   "metadata": {
    "collapsed": false
   },
   "outputs": [
    {
     "name": "stdout",
     "output_type": "stream",
     "text": [
      "train\t (100, 1) (100, 1)\n",
      "val\t (100, 1) (100, 1)\n",
      "[[ 2.]] [  6.66133815e-16]\n",
      "MSE on val 1.17142401826e-29\n"
     ]
    }
   ],
   "source": [
    "# 1. linear regression\n",
    "import numpy as np\n",
    "from sklearn.linear_model import LinearRegression\n",
    "\n",
    "x_train = np.random.rand(100,1)\n",
    "y_train = x_train * 2.0\n",
    "print('train\\t', x_train.shape, y_train.shape)\n",
    "x_val = np.random.rand(100,1)\n",
    "y_val = x_val * 2.0\n",
    "print('val\\t', x_val.shape, y_val.shape)\n",
    "\n",
    "model = LinearRegression()\n",
    "model.fit(x_train, y_train)\n",
    "model.score(x_train, y_train)\n",
    "print(model.coef_, model.intercept_)\n",
    "pred = model.predict(x_val)\n",
    "print('MSE on val', np.sum(np.square(pred - y_val)))"
   ]
  },
  {
   "cell_type": "code",
   "execution_count": 53,
   "metadata": {
    "collapsed": false
   },
   "outputs": [
    {
     "name": "stdout",
     "output_type": "stream",
     "text": [
      "0.755\n",
      "[[ 0.9488028   0.82411441]]\n"
     ]
    }
   ],
   "source": [
    "# 2. logistic regression\n",
    "import numpy as np\n",
    "from sklearn.linear_model import LogisticRegression\n",
    "\n",
    "x_train = np.random.randn(200,2)\n",
    "y_train = np.zeros((200,))\n",
    "x_train[100:, :] += 1.0\n",
    "y_train[100:] += 1.0\n",
    "\n",
    "model = LogisticRegression()\n",
    "model.fit(x_train, y_train)\n",
    "print(model.score(x_train, y_train))\n",
    "print(model.coef_)\n",
    "pred = model.predict(x_train)"
   ]
  },
  {
   "cell_type": "code",
   "execution_count": 59,
   "metadata": {
    "collapsed": false
   },
   "outputs": [
    {
     "name": "stdout",
     "output_type": "stream",
     "text": [
      "MSE on train 0.0\n"
     ]
    }
   ],
   "source": [
    "# 3. decision tree\n",
    "import numpy as np\n",
    "from sklearn.tree import DecisionTreeClassifier\n",
    "\n",
    "x_train = np.random.randn(200,2)\n",
    "y_train = np.zeros((200,))\n",
    "x_train[100:, :] += 1.0\n",
    "y_train[100:] += 1.0\n",
    "\n",
    "model = DecisionTreeClassifier(criterion='gini')\n",
    "model.fit(x_train, y_train)\n",
    "model.score(x_train, y_train)\n",
    "pred = model.predict(x_train)\n",
    "print('MSE on train', np.sum(np.square((pred - y_train))))"
   ]
  },
  {
   "cell_type": "code",
   "execution_count": 60,
   "metadata": {
    "collapsed": false
   },
   "outputs": [
    {
     "name": "stdout",
     "output_type": "stream",
     "text": [
      "0.78\n"
     ]
    }
   ],
   "source": [
    "# 4. support vector machine\n",
    "import numpy as np\n",
    "from sklearn import svm\n",
    "\n",
    "x_train = np.random.randn(200,2)\n",
    "y_train = np.zeros((200,))\n",
    "x_train[100:, :] += 1.0\n",
    "y_train[100:] += 1.0\n",
    "\n",
    "model = svm.SVC()\n",
    "model.fit(x_train, y_train)\n",
    "print(model.score(x_train, y_train))\n",
    "pred = model.predict(x_train)"
   ]
  },
  {
   "cell_type": "code",
   "execution_count": 62,
   "metadata": {
    "collapsed": false
   },
   "outputs": [
    {
     "data": {
      "text/plain": [
       "0.745"
      ]
     },
     "execution_count": 62,
     "metadata": {},
     "output_type": "execute_result"
    }
   ],
   "source": [
    "# 5. naive bayes\n",
    "import numpy as np\n",
    "from sklearn.naive_bayes import GaussianNB\n",
    "\n",
    "x_train = np.random.randn(200,2)\n",
    "y_train = np.zeros((200,))\n",
    "x_train[100:, :] += 1.0\n",
    "y_train[100:] += 1.0\n",
    "\n",
    "model = GaussianNB()\n",
    "model.fit(x_train, y_train)\n",
    "model.score(x_train, y_train)"
   ]
  },
  {
   "cell_type": "code",
   "execution_count": 64,
   "metadata": {
    "collapsed": false
   },
   "outputs": [
    {
     "data": {
      "text/plain": [
       "0.80000000000000004"
      ]
     },
     "execution_count": 64,
     "metadata": {},
     "output_type": "execute_result"
    }
   ],
   "source": [
    "# 6. k-nearest-neighbor\n",
    "import numpy as np\n",
    "from sklearn.neighbors import KNeighborsClassifier\n",
    "\n",
    "x_train = np.random.randn(200,2)\n",
    "y_train = np.zeros((200,))\n",
    "x_train[100:, :] += 1.0\n",
    "y_train[100:] += 1.0\n",
    "\n",
    "model = KNeighborsClassifier(n_neighbors=5)\n",
    "model.fit(x_train, y_train)\n",
    "model.score(x_train, y_train)"
   ]
  },
  {
   "cell_type": "code",
   "execution_count": 71,
   "metadata": {
    "collapsed": false
   },
   "outputs": [
    {
     "name": "stdout",
     "output_type": "stream",
     "text": [
      "143.0\n"
     ]
    }
   ],
   "source": [
    "# 7. k-means\n",
    "import numpy as np\n",
    "from sklearn.cluster import KMeans\n",
    "\n",
    "x_train = np.random.randn(200,2)\n",
    "y_train = np.zeros((200,))\n",
    "x_train[100:, :] += 1.0\n",
    "y_train[100:] += 1.0\n",
    "\n",
    "model = KMeans(n_clusters=2, random_state=0)\n",
    "model.fit(x_train)\n",
    "pred = model.predict(x_train)\n",
    "print(np.sum(np.square(pred - y_train)))"
   ]
  },
  {
   "cell_type": "code",
   "execution_count": 75,
   "metadata": {
    "collapsed": false
   },
   "outputs": [
    {
     "name": "stdout",
     "output_type": "stream",
     "text": [
      "0.98\n"
     ]
    }
   ],
   "source": [
    "# 8. random forest\n",
    "import numpy as np\n",
    "from sklearn.ensemble import RandomForestClassifier\n",
    "\n",
    "x_train = np.random.randn(200,2)\n",
    "y_train = np.zeros((200,))\n",
    "x_train[100:, :] += 1.0\n",
    "y_train[100:] += 1.0\n",
    "\n",
    "model = RandomForestClassifier()\n",
    "model.fit(x_train, y_train)\n",
    "print(model.score(x_train, y_train))\n",
    "pred = model.predict(x_train)"
   ]
  },
  {
   "cell_type": "code",
   "execution_count": 83,
   "metadata": {
    "collapsed": false
   },
   "outputs": [
    {
     "name": "stdout",
     "output_type": "stream",
     "text": [
      "(100, 20)\n"
     ]
    }
   ],
   "source": [
    "# 9. dimension reduction\n",
    "import numpy as np\n",
    "from sklearn.decomposition import PCA\n",
    "\n",
    "x = np.random.rand(100, 1024)\n",
    "model = PCA(n_components=20)\n",
    "x_reduced = model.fit_transform(x)\n",
    "print(x_reduced.shape)\n",
    "xx = model.transform(x)"
   ]
  },
  {
   "cell_type": "code",
   "execution_count": 86,
   "metadata": {
    "collapsed": false
   },
   "outputs": [
    {
     "name": "stdout",
     "output_type": "stream",
     "text": [
      "0.87\n"
     ]
    }
   ],
   "source": [
    "# 10. Gradient Boosting\n",
    "import numpy as np\n",
    "from sklearn.ensemble import GradientBoostingClassifier\n",
    "\n",
    "x_train = np.random.randn(200,2)\n",
    "y_train = np.zeros((200,))\n",
    "x_train[100:, :] += 1.0\n",
    "y_train[100:] += 1.0\n",
    "\n",
    "model = GradientBoostingClassifier(n_estimators=100, learning_rate=1., max_depth=1, random_state=0)\n",
    "model.fit(x_train, y_train)\n",
    "print(model.score(x_train, y_train))\n",
    "pred = model.predict(x_train)"
   ]
  }
 ],
 "metadata": {
  "kernelspec": {
   "display_name": "Python 3",
   "language": "python",
   "name": "python3"
  },
  "language_info": {
   "codemirror_mode": {
    "name": "ipython",
    "version": 3
   },
   "file_extension": ".py",
   "mimetype": "text/x-python",
   "name": "python",
   "nbconvert_exporter": "python",
   "pygments_lexer": "ipython3",
   "version": "3.5.4"
  }
 },
 "nbformat": 4,
 "nbformat_minor": 2
}
